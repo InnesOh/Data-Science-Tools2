{
 "cells": [
  {
   "cell_type": "markdown",
   "id": "cf83a3f6-23ca-4325-a547-525848daf5d0",
   "metadata": {},
   "source": [
    "# Data Science Tools and Ecosystem"
   ]
  },
  {
   "cell_type": "markdown",
   "id": "de679812-df84-47dc-ae89-82e5b75e2f64",
   "metadata": {},
   "source": [
    "In this notebook, Data Science Tools ad Ecosystem are summarized"
   ]
  },
  {
   "cell_type": "markdown",
   "id": "2c31aa82-dba8-43a0-9642-76c944af78cb",
   "metadata": {},
   "source": [
    "**Objectives**\n",
    "- Popular Languages for Data Science\n",
    "- Commonly Used Libraries Used By Data Scientist\n",
    "- Data Science Tools\n",
    "- Evaluation of Arithmetic Expressions in Python"
   ]
  },
  {
   "cell_type": "markdown",
   "id": "8b2ea582-fe05-490e-9405-beb9c76feacd",
   "metadata": {},
   "source": [
    "Some of the popular languages that Data Scientist use are:\n",
    "1. Python\n",
    "2. R\n",
    "3. SQL"
   ]
  },
  {
   "cell_type": "markdown",
   "id": "d5e2f7ac-64df-4e7f-880f-9e44a4fa4e88",
   "metadata": {},
   "source": [
    "Some of the commonly used libraries used by Data Scientists include:\n",
    "1. Pandas\n",
    "2. NumPy\n",
    "3. Matplotlib\n",
    "4. SciPy"
   ]
  },
  {
   "cell_type": "markdown",
   "id": "795f05d2-e4e9-4584-b781-434b5735b9b2",
   "metadata": {},
   "source": [
    "| Data Science Tools|\n",
    "|----------------|\n",
    "|Jupiter Notebook|\n",
    "|Visual Studio Code|\n",
    "|Apache Spark|"
   ]
  },
  {
   "cell_type": "markdown",
   "id": "1662d54d-5884-4a71-8445-d7d65d40146c",
   "metadata": {},
   "source": [
    "### Below are a few examples of evaluating arithmetic expressions in Python"
   ]
  },
  {
   "cell_type": "code",
   "execution_count": 2,
   "id": "01a65009-b97b-4b6a-9f3a-cac3ca008469",
   "metadata": {
    "tags": []
   },
   "outputs": [
    {
     "data": {
      "text/plain": [
       "17"
      ]
     },
     "execution_count": 2,
     "metadata": {},
     "output_type": "execute_result"
    }
   ],
   "source": [
    "# This a simple arithmetic expression to multiply then add integers\n",
    "(3*4)+5"
   ]
  },
  {
   "cell_type": "code",
   "execution_count": 4,
   "id": "04f81d02-3ca2-4663-adbb-2da7a929ac1a",
   "metadata": {
    "tags": []
   },
   "outputs": [
    {
     "data": {
      "text/plain": [
       "3.3333333333333335"
      ]
     },
     "execution_count": 4,
     "metadata": {},
     "output_type": "execute_result"
    }
   ],
   "source": [
    "# This will convert 200 minutes to hours by dividing by 60\n",
    "200/60"
   ]
  },
  {
   "cell_type": "markdown",
   "id": "9ca67aa0-7923-4088-a7e2-ad6c6d17d57e",
   "metadata": {},
   "source": [
    "## Author\n",
    "Inés Coloma"
   ]
  },
  {
   "cell_type": "code",
   "execution_count": null,
   "id": "649088a1-a076-4bad-af9b-82e2d570ad6b",
   "metadata": {},
   "outputs": [],
   "source": []
  }
 ],
 "metadata": {
  "kernelspec": {
   "display_name": "Python",
   "language": "python",
   "name": "conda-env-python-py"
  },
  "language_info": {
   "codemirror_mode": {
    "name": "ipython",
    "version": 3
   },
   "file_extension": ".py",
   "mimetype": "text/x-python",
   "name": "python",
   "nbconvert_exporter": "python",
   "pygments_lexer": "ipython3",
   "version": "3.7.12"
  }
 },
 "nbformat": 4,
 "nbformat_minor": 5
}
